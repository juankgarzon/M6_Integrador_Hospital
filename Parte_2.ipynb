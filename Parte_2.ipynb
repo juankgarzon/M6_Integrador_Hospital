{
  "cells": [
    {
      "cell_type": "markdown",
      "metadata": {
        "id": "4WaoEOp0KkSp"
      },
      "source": [
        "![HenryLogo](https://d31uz8lwfmyn8g.cloudfront.net/Assets/logo-henry-white-lg.png)\n",
        "\n",
        "# **Proyecto integrador**\n",
        "\n",
        "### 3. Modelamiento\n",
        "\n",
        "Una vez preparados los datos, se procederá con el modelamiento. Recuerden que el objetivo es clasificar a un paciente como hospitalizado o no hospitalizado, teniendo en cuenta un data set que contiene información referente a antecedentes del paciente, morbilidad asociada al paciente y antecedentes relacionados con la toma de la biopsia y complicaciones infecciosas.\n",
        "\n",
        "\n"
      ]
    },
    {
      "cell_type": "markdown",
      "metadata": {
        "id": "E22GkymtLevx"
      },
      "source": [
        "Carguen la base de datos preparada desde la fase 2."
      ]
    },
    {
      "cell_type": "code",
      "execution_count": 2,
      "metadata": {
        "id": "dlRCMYtGLqDJ"
      },
      "outputs": [
        {
          "data": {
            "text/html": [
              "<div>\n",
              "<style scoped>\n",
              "    .dataframe tbody tr th:only-of-type {\n",
              "        vertical-align: middle;\n",
              "    }\n",
              "\n",
              "    .dataframe tbody tr th {\n",
              "        vertical-align: top;\n",
              "    }\n",
              "\n",
              "    .dataframe thead th {\n",
              "        text-align: right;\n",
              "    }\n",
              "</style>\n",
              "<table border=\"1\" class=\"dataframe\">\n",
              "  <thead>\n",
              "    <tr style=\"text-align: right;\">\n",
              "      <th></th>\n",
              "      <th>EDAD</th>\n",
              "      <th>DIABETES</th>\n",
              "      <th>HOSPITALIZACIÓN ULTIMO MES</th>\n",
              "      <th>PSA</th>\n",
              "      <th>BIOPSIAS PREVIAS</th>\n",
              "      <th>NUMERO DE DIAS POST BIOPSIA EN QUE SE PRESENTA LA COMPLICACIÓN INFECCIOSA</th>\n",
              "      <th>FIEBRE</th>\n",
              "      <th>ITU</th>\n",
              "      <th>BIOPSIA_ADENOCARCINOMA GLEASON 10</th>\n",
              "      <th>BIOPSIA_ADENOCARCINOMA GLEASON 6</th>\n",
              "      <th>BIOPSIA_ADENOCARCINOMA GLEASON 6</th>\n",
              "      <th>BIOPSIA_ADENOCARCINOMA GLEASON 7</th>\n",
              "      <th>BIOPSIA_ADENOCARCINOMA GLEASON 7</th>\n",
              "      <th>BIOPSIA_ADENOCARCINOMA GLEASON 8</th>\n",
              "      <th>BIOPSIA_ADENOCARCINOMA GLEASON 9</th>\n",
              "      <th>BIOPSIA_CARCINOMA INDIFERENCIADO DE CELULAS CLARAS</th>\n",
              "      <th>BIOPSIA_HIPERPLASIA PROSTATICA</th>\n",
              "      <th>BIOPSIA_NEG</th>\n",
              "      <th>BIOPSIA_PROSTATITIS</th>\n",
              "      <th>HOSPITALIZACION</th>\n",
              "    </tr>\n",
              "  </thead>\n",
              "  <tbody>\n",
              "    <tr>\n",
              "      <th>0</th>\n",
              "      <td>53.0</td>\n",
              "      <td>0.0</td>\n",
              "      <td>0.0</td>\n",
              "      <td>4.0</td>\n",
              "      <td>0.0</td>\n",
              "      <td>1.0</td>\n",
              "      <td>1.0</td>\n",
              "      <td>0.0</td>\n",
              "      <td>False</td>\n",
              "      <td>False</td>\n",
              "      <td>False</td>\n",
              "      <td>False</td>\n",
              "      <td>False</td>\n",
              "      <td>False</td>\n",
              "      <td>False</td>\n",
              "      <td>False</td>\n",
              "      <td>False</td>\n",
              "      <td>True</td>\n",
              "      <td>False</td>\n",
              "      <td>1.0</td>\n",
              "    </tr>\n",
              "    <tr>\n",
              "      <th>1</th>\n",
              "      <td>56.0</td>\n",
              "      <td>0.0</td>\n",
              "      <td>0.0</td>\n",
              "      <td>7.7</td>\n",
              "      <td>0.0</td>\n",
              "      <td>1.0</td>\n",
              "      <td>1.0</td>\n",
              "      <td>0.0</td>\n",
              "      <td>False</td>\n",
              "      <td>False</td>\n",
              "      <td>False</td>\n",
              "      <td>False</td>\n",
              "      <td>False</td>\n",
              "      <td>False</td>\n",
              "      <td>False</td>\n",
              "      <td>False</td>\n",
              "      <td>False</td>\n",
              "      <td>True</td>\n",
              "      <td>False</td>\n",
              "      <td>1.0</td>\n",
              "    </tr>\n",
              "    <tr>\n",
              "      <th>2</th>\n",
              "      <td>57.0</td>\n",
              "      <td>0.0</td>\n",
              "      <td>0.0</td>\n",
              "      <td>29.0</td>\n",
              "      <td>1.0</td>\n",
              "      <td>1.0</td>\n",
              "      <td>1.0</td>\n",
              "      <td>0.0</td>\n",
              "      <td>False</td>\n",
              "      <td>False</td>\n",
              "      <td>False</td>\n",
              "      <td>False</td>\n",
              "      <td>False</td>\n",
              "      <td>False</td>\n",
              "      <td>False</td>\n",
              "      <td>False</td>\n",
              "      <td>False</td>\n",
              "      <td>True</td>\n",
              "      <td>False</td>\n",
              "      <td>1.0</td>\n",
              "    </tr>\n",
              "    <tr>\n",
              "      <th>3</th>\n",
              "      <td>56.0</td>\n",
              "      <td>0.0</td>\n",
              "      <td>0.0</td>\n",
              "      <td>7.0</td>\n",
              "      <td>0.0</td>\n",
              "      <td>1.0</td>\n",
              "      <td>1.0</td>\n",
              "      <td>0.0</td>\n",
              "      <td>False</td>\n",
              "      <td>False</td>\n",
              "      <td>False</td>\n",
              "      <td>False</td>\n",
              "      <td>False</td>\n",
              "      <td>False</td>\n",
              "      <td>False</td>\n",
              "      <td>False</td>\n",
              "      <td>False</td>\n",
              "      <td>True</td>\n",
              "      <td>False</td>\n",
              "      <td>1.0</td>\n",
              "    </tr>\n",
              "    <tr>\n",
              "      <th>4</th>\n",
              "      <td>55.0</td>\n",
              "      <td>0.0</td>\n",
              "      <td>0.0</td>\n",
              "      <td>29.0</td>\n",
              "      <td>1.0</td>\n",
              "      <td>1.0</td>\n",
              "      <td>1.0</td>\n",
              "      <td>0.0</td>\n",
              "      <td>False</td>\n",
              "      <td>False</td>\n",
              "      <td>False</td>\n",
              "      <td>False</td>\n",
              "      <td>False</td>\n",
              "      <td>False</td>\n",
              "      <td>False</td>\n",
              "      <td>False</td>\n",
              "      <td>False</td>\n",
              "      <td>True</td>\n",
              "      <td>False</td>\n",
              "      <td>1.0</td>\n",
              "    </tr>\n",
              "  </tbody>\n",
              "</table>\n",
              "</div>"
            ],
            "text/plain": [
              "   EDAD  DIABETES  HOSPITALIZACIÓN ULTIMO MES   PSA  BIOPSIAS PREVIAS  \\\n",
              "0  53.0       0.0                         0.0   4.0               0.0   \n",
              "1  56.0       0.0                         0.0   7.7               0.0   \n",
              "2  57.0       0.0                         0.0  29.0               1.0   \n",
              "3  56.0       0.0                         0.0   7.0               0.0   \n",
              "4  55.0       0.0                         0.0  29.0               1.0   \n",
              "\n",
              "   NUMERO DE DIAS POST BIOPSIA EN QUE SE PRESENTA LA COMPLICACIÓN INFECCIOSA  \\\n",
              "0                                                1.0                           \n",
              "1                                                1.0                           \n",
              "2                                                1.0                           \n",
              "3                                                1.0                           \n",
              "4                                                1.0                           \n",
              "\n",
              "   FIEBRE  ITU  BIOPSIA_ADENOCARCINOMA GLEASON 10   \\\n",
              "0     1.0  0.0                               False   \n",
              "1     1.0  0.0                               False   \n",
              "2     1.0  0.0                               False   \n",
              "3     1.0  0.0                               False   \n",
              "4     1.0  0.0                               False   \n",
              "\n",
              "   BIOPSIA_ADENOCARCINOMA GLEASON 6  BIOPSIA_ADENOCARCINOMA GLEASON 6   \\\n",
              "0                             False                              False   \n",
              "1                             False                              False   \n",
              "2                             False                              False   \n",
              "3                             False                              False   \n",
              "4                             False                              False   \n",
              "\n",
              "   BIOPSIA_ADENOCARCINOMA GLEASON 7  BIOPSIA_ADENOCARCINOMA GLEASON 7   \\\n",
              "0                             False                              False   \n",
              "1                             False                              False   \n",
              "2                             False                              False   \n",
              "3                             False                              False   \n",
              "4                             False                              False   \n",
              "\n",
              "   BIOPSIA_ADENOCARCINOMA GLEASON 8   BIOPSIA_ADENOCARCINOMA GLEASON 9   \\\n",
              "0                              False                              False   \n",
              "1                              False                              False   \n",
              "2                              False                              False   \n",
              "3                              False                              False   \n",
              "4                              False                              False   \n",
              "\n",
              "   BIOPSIA_CARCINOMA INDIFERENCIADO DE CELULAS CLARAS  \\\n",
              "0                                              False    \n",
              "1                                              False    \n",
              "2                                              False    \n",
              "3                                              False    \n",
              "4                                              False    \n",
              "\n",
              "   BIOPSIA_HIPERPLASIA PROSTATICA  BIOPSIA_NEG  BIOPSIA_PROSTATITIS  \\\n",
              "0                           False         True                False   \n",
              "1                           False         True                False   \n",
              "2                           False         True                False   \n",
              "3                           False         True                False   \n",
              "4                           False         True                False   \n",
              "\n",
              "   HOSPITALIZACION  \n",
              "0              1.0  \n",
              "1              1.0  \n",
              "2              1.0  \n",
              "3              1.0  \n",
              "4              1.0  "
            ]
          },
          "execution_count": 2,
          "metadata": {},
          "output_type": "execute_result"
        }
      ],
      "source": [
        "import pandas as pd \n",
        "import numpy as np \n",
        "import matplotlib.pyplot as plt\n",
        "import seaborn as sns\n",
        "\n",
        "dataset = pd.read_csv('data_normalizada.csv')\n",
        "\n",
        "# Mostrar las primeras 5 filas del DataFrame\n",
        "dataset.head()\n"
      ]
    },
    {
      "cell_type": "markdown",
      "metadata": {
        "id": "X33Od3Y_Lrye"
      },
      "source": [
        "Separen el dataset en X, y (variable objetivo)"
      ]
    },
    {
      "cell_type": "code",
      "execution_count": 3,
      "metadata": {
        "id": "Zjq3g_zkMUT5"
      },
      "outputs": [],
      "source": [
        "X = dataset.iloc[:, :-1] # Todas las filas y todas las columnas excepto la última, por que la última tiene la variable objetivo, osea Hospitalización\n",
        "y = dataset.iloc[:, -1] # Todas las filas y solo la última columna es decir la etiqueta Hospitalización"
      ]
    },
    {
      "cell_type": "markdown",
      "metadata": {
        "id": "mTV2RdmbMoRE"
      },
      "source": [
        "Separen el dataset en X_train, X_test, y_train y y_test"
      ]
    },
    {
      "cell_type": "code",
      "execution_count": 4,
      "metadata": {
        "id": "ILzt6oOaM1ag"
      },
      "outputs": [
        {
          "name": "stdout",
          "output_type": "stream",
          "text": [
            "(426, 19) (426,) (142, 19) (142,)\n"
          ]
        }
      ],
      "source": [
        "from sklearn.model_selection import train_test_split\n",
        "\n",
        "X_train, X_test, y_train, y_test = train_test_split(X, y, test_size=0.25, random_state=123) # Se realiza la separación para el train y el test\n",
        "\n",
        "print(X_train.shape, y_train.shape, X_test.shape, y_test.shape)"
      ]
    },
    {
      "cell_type": "markdown",
      "metadata": {
        "id": "zyQIaY1bM12g"
      },
      "source": [
        "Instancien, entrenen y predigan sobre un árbol de decisión asignando una profundidad máxima arbitraria"
      ]
    },
    {
      "cell_type": "code",
      "execution_count": 5,
      "metadata": {
        "id": "HO3Db1YQM9JS"
      },
      "outputs": [
        {
          "name": "stdout",
          "output_type": "stream",
          "text": [
            "1.0\n"
          ]
        }
      ],
      "source": [
        "from sklearn.tree import DecisionTreeClassifier\n",
        "\n",
        "# Instanciamos un objeto de la clase DecisionTreeClassifier\n",
        "clf = DecisionTreeClassifier(max_depth = 5, random_state = 42) \n",
        "\n",
        "# Entrenamos el modelo\n",
        "clf.fit(X_train,y_train) # X_train, y_train\n",
        "\n",
        "# Predecimos\n",
        "y_pred = clf.predict(X_test)\n",
        "\n",
        "# Evaluamos aplicando la métrica\n",
        "from sklearn.metrics import accuracy_score\n",
        "\n",
        "print(accuracy_score(y_test,y_pred))\n"
      ]
    },
    {
      "cell_type": "markdown",
      "metadata": {
        "id": "HAZhxOMyNFON"
      },
      "source": [
        "Realicen la matriz de confusión para este modelo. Se recomienda utilizar mapa de calor para la visualización. "
      ]
    },
    {
      "cell_type": "code",
      "execution_count": 6,
      "metadata": {
        "id": "_GpXEa1oNQfG"
      },
      "outputs": [
        {
          "data": {
            "image/png": "[encoded data removed]",
            "text/plain": [
              "<Figure size 400x500 with 1 Axes>"
            ]
          },
          "metadata": {},
          "output_type": "display_data"
        }
      ],
      "source": [
        "# Generar la matriz de confisión\n",
        "from sklearn.metrics import confusion_matrix\n",
        "from sklearn.metrics import ConfusionMatrixDisplay\n",
        "\n",
        "matrix = confusion_matrix(y_test, y_pred)\n",
        "\n",
        "# Graficar la matriz de confusión\n",
        "cm_display = ConfusionMatrixDisplay(matrix)\n",
        "\n",
        "fig, ax = plt.subplots(figsize=(4,5))\n",
        "\n",
        "ax.matshow(matrix)\n",
        "for (i, j), z in np.ndenumerate(matrix):\n",
        "    ax.text(j, i, '{:0.1f}'.format(z), ha='center', va='center')\n",
        "plt.show()\n",
        "\n"
      ]
    },
    {
      "cell_type": "code",
      "execution_count": 7,
      "metadata": {},
      "outputs": [
        {
          "data": {
            "text/plain": [
              "array([[137,   0],\n",
              "       [  0,   5]], dtype=int64)"
            ]
          },
          "execution_count": 7,
          "metadata": {},
          "output_type": "execute_result"
        }
      ],
      "source": [
        "matrix\n",
        "\n",
        "# Muestra un resultado favorable, 137 casos que el modelo predijo correctamente, y cero casos el cual modelo predijo incorrectamente"
      ]
    },
    {
      "cell_type": "markdown",
      "metadata": {
        "id": "CmRUpq9FMcsi"
      },
      "source": [
        "Seleccione tres métricas de evaluación para este modelo de clasificación y describa el significado de cada una de ellas para el modelo creado."
      ]
    },
    {
      "cell_type": "code",
      "execution_count": 8,
      "metadata": {
        "id": "xSSe-ZHpMmdz"
      },
      "outputs": [
        {
          "name": "stdout",
          "output_type": "stream",
          "text": [
            "Exactitud: 1.0\n",
            "Sensibilidad: 1.0\n",
            "Especificidad: 1.0\n"
          ]
        }
      ],
      "source": [
        "from sklearn.metrics import accuracy_score, recall_score, confusion_matrix\n",
        "\n",
        "# 1. Exactitud (Accuracy)\n",
        "# Siendo una medida general del rendimiento del modelo y se calcula como el número de predicciones correctas dividido por el número total de predicciones, indicando\n",
        "# qué tan bien el modelo clasifica correctamente las muestras en todas las clases. Una alta exactitud significa que el modelo clasifica correctamente la mayoría de \n",
        "# las muestras.\n",
        "\n",
        "exactitud = accuracy_score(y_test, y_pred)\n",
        "\n",
        "# 2. Sensibilidad (Recall)\n",
        "# También conocida como tasa positiva verdadera, mide la proporción de casos positivos reales que se identificaron correctamente, se calcula como el número de \n",
        "# verdaderos positivos dividido por la suma de verdaderos positivos y falsos negativos La sensibilidad es importante cuando el costo de los falsos negativos es alto.\n",
        "sensibilidad = recall_score(y_test, y_pred)\n",
        "\n",
        "# 3. Especificidad (Specificity)\n",
        "# También conocida como tasa negativa verdadera, mide la proporción de casos negativos reales que se identificaron correctamente, se calcula como el número de verdaderos \n",
        "# negativos dividido por la suma de verdaderos negativos y falsos positivos. La especificidad es importante cuando el costo de los falsos positivos es alto \n",
        "tn, fp, fn, tp = confusion_matrix(y_test, y_pred).ravel()\n",
        "especificidad = tn / (tn + fp)\n",
        "\n",
        "print(\"Exactitud:\", exactitud)\n",
        "print(\"Sensibilidad:\", sensibilidad)\n",
        "print(\"Especificidad:\", especificidad)"
      ]
    },
    {
      "cell_type": "markdown",
      "metadata": {
        "id": "b_u-bC8FNTkT"
      },
      "source": [
        "Realice un diagrama de la importancia de cada variable respecto a la clasificación de la variable objetivo"
      ]
    },
    {
      "cell_type": "code",
      "execution_count": 9,
      "metadata": {
        "id": "I9w7a6dXNYPz"
      },
      "outputs": [
        {
          "data": {
            "image/png": "[encoded data removed]",
            "text/plain": [
              "<Figure size 1000x600 with 1 Axes>"
            ]
          },
          "metadata": {},
          "output_type": "display_data"
        }
      ],
      "source": [
        "# Para visualizar la importancia de cada variable en la clasificación utilizando el atributo feature_importances_ del modelo de árbol de decisión.\n",
        "\n",
        "import matplotlib.pyplot as plt\n",
        "\n",
        "# Obtener la importancia de cada variable\n",
        "importancias = clf.feature_importances_\n",
        "\n",
        "# Obtener el nombre de las variables\n",
        "nombres_variables = X_train.columns\n",
        "\n",
        "# Crear un gráfico de barras para visualizar la importancia de cada variable\n",
        "plt.figure(figsize=(10, 6))\n",
        "plt.barh(nombres_variables, importancias)\n",
        "plt.xlabel('Importancia')\n",
        "plt.ylabel('Variables')\n",
        "plt.title('Importancia de las Variables')\n",
        "plt.show()"
      ]
    },
    {
      "cell_type": "markdown",
      "metadata": {
        "id": "E3k9TEhuSU9i"
      },
      "source": [
        "Encuentre cuál sería un valor óptimo para el hiperparámetro **max_depth** para el árbol de decisión. Construya un modelo con este valor y compare las métricas de evaluación respecto al modelo creado con una profundidad arbitraria. "
      ]
    },
    {
      "cell_type": "code",
      "execution_count": 10,
      "metadata": {
        "id": "CUdKvPY0S1SC"
      },
      "outputs": [
        {
          "name": "stdout",
          "output_type": "stream",
          "text": [
            "Mejor valor para max_depth: 3\n",
            "Exactitud con max_depth óptimo: 1.0\n",
            "Sensibilidad con max_depth óptimo: 1.0\n",
            "Especificidad con max_depth óptimo: 1.0\n"
          ]
        }
      ],
      "source": [
        "# Para encontrar un valor óptimo para el hiperparámetro max_depth, puedes utilizar la validación cruzada\n",
        "\n",
        "from sklearn.model_selection import GridSearchCV\n",
        "\n",
        "# Definir los parámetros para la búsqueda en cuadrícula\n",
        "parametros = {'max_depth': [3, 5, 7, 10]}\n",
        "\n",
        "# Instanciar el modelo de árbol de decisión\n",
        "clf = DecisionTreeClassifier(random_state=42)\n",
        "\n",
        "# Crear el objeto GridSearchCV\n",
        "grid_search = GridSearchCV(clf, parametros, cv=5, scoring='accuracy')\n",
        "\n",
        "# Entrenar el modelo con la búsqueda en cuadrícula\n",
        "grid_search.fit(X_train, y_train)\n",
        "\n",
        "# Obtener el mejor valor para max_depth\n",
        "mejor_max_depth = grid_search.best_params_['max_depth']\n",
        "print(\"Mejor valor para max_depth:\", mejor_max_depth)\n",
        "\n",
        "# Se genera nuevamente el modelo de árbol de desición con este nuevo valor, para comparar las metricas de evaluacion con el arterior entrenamiento.\n",
        "\n",
        "# Construir un nuevo modelo con el mejor valor para max_depth\n",
        "clf_optimo = DecisionTreeClassifier(max_depth=mejor_max_depth, random_state=42)\n",
        "\n",
        "# Entrenar el modelo\n",
        "clf_optimo.fit(X_train, y_train)\n",
        "\n",
        "# Predecir sobre los datos de prueba\n",
        "y_pred_optimo = clf_optimo.predict(X_test)\n",
        "\n",
        "# Calcular las métricas de evaluación\n",
        "exactitud_optimo = accuracy_score(y_test, y_pred_optimo)\n",
        "sensibilidad_optimo = recall_score(y_test, y_pred_optimo)\n",
        "especificidad_optimo = (tn / (tn + fp))\n",
        "\n",
        "print(\"Exactitud con max_depth óptimo:\", exactitud_optimo)\n",
        "print(\"Sensibilidad con max_depth óptimo:\", sensibilidad_optimo)\n",
        "print(\"Especificidad con max_depth óptimo:\", especificidad_optimo) "
      ]
    },
    {
      "cell_type": "markdown",
      "metadata": {
        "id": "EiqnqbBuNmmW"
      },
      "source": [
        "Instancien, entrenen y predigan sobre un modelo de k-vecinos asignando una cantidad de vecinos k-aribitraria. "
      ]
    },
    {
      "cell_type": "code",
      "execution_count": 11,
      "metadata": {
        "id": "m_n9Yfg0NmTP"
      },
      "outputs": [
        {
          "name": "stdout",
          "output_type": "stream",
          "text": [
            "Exactitud del modelo: 0.971830985915493\n",
            "\n",
            "Reporte de Clasificación:\n",
            "              precision    recall  f1-score   support\n",
            "\n",
            "         0.0       0.98      0.99      0.99       137\n",
            "         1.0       0.67      0.40      0.50         5\n",
            "\n",
            "    accuracy                           0.97       142\n",
            "   macro avg       0.82      0.70      0.74       142\n",
            "weighted avg       0.97      0.97      0.97       142\n",
            "\n",
            "\n",
            "Matriz de Confusión:\n",
            "[[136   1]\n",
            " [  3   2]]\n"
          ]
        }
      ],
      "source": [
        "from sklearn.neighbors import KNeighborsClassifier\n",
        "from sklearn.metrics import accuracy_score, classification_report, confusion_matrix\n",
        "\n",
        "# instanciar modelo de k-vecinos\n",
        "k_arbitrario = 5  # Por ejemplo, k=5\n",
        "knn_modelo = KNeighborsClassifier(n_neighbors=k_arbitrario)\n",
        "\n",
        "# Entrenar el modelo\n",
        "knn_modelo.fit(X_train, y_train)\n",
        "\n",
        "# Predecir sobre los datos de prueba\n",
        "y_pred_knn = knn_modelo.predict(X_test)\n",
        "\n",
        "# Calcular la exactitud del modelo\n",
        "exactitud = accuracy_score(y_test, y_pred_knn)\n",
        "print(\"Exactitud del modelo:\", exactitud)\n",
        "\n",
        "# Mostrar el reporte de clasificación\n",
        "print(\"\\nReporte de Clasificación:\")\n",
        "print(classification_report(y_test, y_pred_knn))\n",
        "\n",
        "# Calcular y mostrar la matriz de confusión\n",
        "print(\"\\nMatriz de Confusión:\")\n",
        "print(confusion_matrix(y_test, y_pred_knn))\n"
      ]
    },
    {
      "cell_type": "code",
      "execution_count": 12,
      "metadata": {},
      "outputs": [
        {
          "data": {
            "image/png": "[encoded data removed]",
            "text/plain": [
              "<Figure size 800x600 with 1 Axes>"
            ]
          },
          "metadata": {},
          "output_type": "display_data"
        }
      ],
      "source": [
        "# Visualicemos los resultados de la predicción\n",
        "\n",
        "import seaborn as sns\n",
        "\n",
        "# Crear un DataFrame con las etiquetas verdaderas y predichas\n",
        "df_pred = pd.DataFrame({'Verdadero': y_test, 'Predicho': y_pred_knn})\n",
        "\n",
        "# Graficar la distribución de las clases\n",
        "plt.figure(figsize=(8, 6))\n",
        "sns.countplot(data=df_pred, x='Predicho', hue='Verdadero')\n",
        "plt.title('Distribución de Clases Verdaderas y Predichas')\n",
        "plt.xlabel('Clase Predicha')\n",
        "plt.ylabel('Frecuencia')\n",
        "plt.legend(title='Verdadero')\n",
        "plt.show()"
      ]
    },
    {
      "cell_type": "markdown",
      "metadata": {
        "id": "kiZg1tfCS38i"
      },
      "source": [
        "Encuentre el valor óptimo para k"
      ]
    },
    {
      "cell_type": "code",
      "execution_count": 13,
      "metadata": {
        "id": "DVaNp3K9S7Os"
      },
      "outputs": [
        {
          "name": "stdout",
          "output_type": "stream",
          "text": [
            "Mejor valor para k: 3\n"
          ]
        }
      ],
      "source": [
        "# Para encontrar el valor óptimo de k en el modelo de k-vecinos más cercanos (KNN), se utiliza la validación cruzada junto con la búsqueda en cuadrícula\n",
        "\n",
        "from sklearn.model_selection import GridSearchCV\n",
        "\n",
        "# Definir la lista de valores para k que deseas probar\n",
        "parametros = {'n_neighbors': [3, 5, 7, 9, 11]} \n",
        "\n",
        "# Instanciar el modelo KNN\n",
        "knn = KNeighborsClassifier()\n",
        "\n",
        "# Crear el objeto GridSearchCV\n",
        "grid_search = GridSearchCV(knn, parametros, cv=5, scoring='accuracy')\n",
        "\n",
        "# Entrenar el modelo con la búsqueda en cuadrícula\n",
        "grid_search.fit(X_train, y_train)\n",
        "\n",
        "# Obtener el mejor valor para k\n",
        "mejor_k = grid_search.best_params_['n_neighbors']\n",
        "print(\"Mejor valor para k:\", mejor_k)\n"
      ]
    },
    {
      "cell_type": "code",
      "execution_count": 14,
      "metadata": {},
      "outputs": [
        {
          "name": "stdout",
          "output_type": "stream",
          "text": [
            "Exactitud del modelo: 0.9647887323943662\n",
            "\n",
            "Reporte de Clasificación:\n",
            "              precision    recall  f1-score   support\n",
            "\n",
            "         0.0       0.98      0.99      0.98       137\n",
            "         1.0       0.50      0.40      0.44         5\n",
            "\n",
            "    accuracy                           0.96       142\n",
            "   macro avg       0.74      0.69      0.71       142\n",
            "weighted avg       0.96      0.96      0.96       142\n",
            "\n",
            "\n",
            "Matriz de Confusión:\n",
            "[[135   2]\n",
            " [  3   2]]\n"
          ]
        }
      ],
      "source": [
        "# Evaluaremos nuevamente el modelo con k=3, el cual se considera el valor optimo y comparar\n",
        "\n",
        "# instanciar modelo de k-vecinos\n",
        "k_arbitrario = 3  # k=3, que es el valor óptimo\n",
        "knn_modelo = KNeighborsClassifier(n_neighbors=k_arbitrario)\n",
        "\n",
        "# Entrenar el modelo\n",
        "knn_modelo.fit(X_train, y_train)\n",
        "\n",
        "# Predecir sobre los datos de prueba\n",
        "y_pred_knn = knn_modelo.predict(X_test)\n",
        "\n",
        "# Calcular la exactitud del modelo\n",
        "exactitud = accuracy_score(y_test, y_pred_knn)\n",
        "print(\"Exactitud del modelo:\", exactitud)\n",
        "\n",
        "# Mostrar el reporte de clasificación\n",
        "print(\"\\nReporte de Clasificación:\")\n",
        "print(classification_report(y_test, y_pred_knn))\n",
        "\n",
        "# Calcular y mostrar la matriz de confusión\n",
        "print(\"\\nMatriz de Confusión:\")\n",
        "print(confusion_matrix(y_test, y_pred_knn))\n"
      ]
    },
    {
      "cell_type": "code",
      "execution_count": null,
      "metadata": {},
      "outputs": [],
      "source": [
        "\"\"\" En la comparación de los resultados de los modelos KNN con k=5 y k=3, podemos observar algunas diferencias en las métricas de evaluación:\n",
        "\n",
        "Exactitud del modelo:\n",
        "\n",
        "Con k=5: La exactitud del modelo es del 97.18%.\n",
        "Con k=3: La exactitud del modelo es del 96.48%.\n",
        "\n",
        "Reporte de clasificación:\n",
        "\n",
        "Con k=5: El modelo tiene una precisión del 98% para la clase 0 y del 67% para la clase 1. La sensibilidad (recall) es del 99% para la clase 0 y del 40% para la clase 1.\n",
        "Con k=3: El modelo tiene una precisión del 98% para la clase 0 y del 50% para la clase 1. La sensibilidad (recall) es del 99% para la clase 0 y del 40% para la clase 1.\n",
        "\n",
        "Matriz de confusión:\n",
        "\n",
        "Con k=5: La matriz de confusión muestra que el modelo clasificó correctamente la mayoría de las instancias de ambas clases, pero hubo 3 falsos positivos y 3 falsos negativos.\n",
        "Con k=3: La matriz de confusión muestra resultados similares, con 2 falsos positivos y 3 falsos negativos.\n",
        "\n",
        "Al comparar estos resultados, podemos observar que el modelo con k=5 tiene una leve ventaja en términos de exactitud y precisión para la clase 1, mientras que el modelo \n",
        "con k=3 tiene una precisión ligeramente más baja pero un rendimiento similar en términos de sensibilidad y la matriz de confusión. En general, la diferencia en el \n",
        "rendimiento entre los dos modelos es bastante pequeña, lo que sugiere que ambos valores de k podrían ser adecuados \"\"\""
      ]
    },
    {
      "cell_type": "markdown",
      "metadata": {
        "id": "_xXX6APsNjkV"
      },
      "source": [
        "Halle las mismas tres métricas de evaluación para este modelo de clasificación y compare los valores para el performance, respecto al árbol de decisión cuyo hiperparámetro **max_depth** se optimizó. ¿Qué puede concluir? "
      ]
    },
    {
      "cell_type": "code",
      "execution_count": 16,
      "metadata": {
        "id": "paHDdRnYN_Gl"
      },
      "outputs": [
        {
          "name": "stdout",
          "output_type": "stream",
          "text": [
            "Comparación de métricas entre KNN y Árbol de Decisión:\n",
            "\n",
            "Exactitud:\n",
            "KNN: 0.9647887323943662\n",
            "Árbol de Decisión: 1.0\n",
            "\n",
            "Reporte de Clasificación (KNN):\n",
            "               precision    recall  f1-score   support\n",
            "\n",
            "         0.0       0.98      0.99      0.98       137\n",
            "         1.0       0.50      0.40      0.44         5\n",
            "\n",
            "    accuracy                           0.96       142\n",
            "   macro avg       0.74      0.69      0.71       142\n",
            "weighted avg       0.96      0.96      0.96       142\n",
            "\n",
            "\n",
            "Reporte de Clasificación (Árbol de Decisión):\n",
            "               precision    recall  f1-score   support\n",
            "\n",
            "         0.0       1.00      1.00      1.00       137\n",
            "         1.0       1.00      1.00      1.00         5\n",
            "\n",
            "    accuracy                           1.00       142\n",
            "   macro avg       1.00      1.00      1.00       142\n",
            "weighted avg       1.00      1.00      1.00       142\n",
            "\n",
            "\n",
            "Matriz de Confusión (KNN):\n",
            " [[135   2]\n",
            " [  3   2]]\n",
            "\n",
            "Matriz de Confusión (Árbol de Decisión):\n",
            " [[137   0]\n",
            " [  0   5]]\n"
          ]
        }
      ],
      "source": [
        "from sklearn.metrics import accuracy_score, classification_report, confusion_matrix\n",
        "from sklearn.tree import DecisionTreeClassifier\n",
        "from sklearn.metrics import accuracy_score\n",
        "\n",
        "\n",
        "# Calcular la exactitud del modelo de KNN\n",
        "exactitud_knn = accuracy_score(y_test, y_pred_knn)\n",
        "\n",
        "# Mostrar el reporte de clasificación del modelo de KNN\n",
        "reporte_knn = classification_report(y_test, y_pred_knn)\n",
        "\n",
        "# Calcular y mostrar la matriz de confusión del modelo de KNN\n",
        "matriz_confusion_knn = confusion_matrix(y_test, y_pred_knn)\n",
        "\n",
        "# Instanciar el modelo de árbol de decisión con el valor óptimo de max_depth\n",
        "arbol_optimizado = DecisionTreeClassifier(max_depth=mejor_max_depth, random_state=42)\n",
        "\n",
        "# Entrenar el modelo de árbol de decisión optimizado\n",
        "arbol_optimizado.fit(X_train, y_train)\n",
        "\n",
        "# Realizar predicciones sobre los datos de prueba\n",
        "y_pred_arbol = arbol_optimizado.predict(X_test)\n",
        "\n",
        "# Calcular la exactitud del modelo de árbol de decisión optimizado\n",
        "exactitud_arbol = accuracy_score(y_test, y_pred_arbol)\n",
        "\n",
        "# Calcular la exactitud del modelo de árbol de decisión optimizado\n",
        "exactitud_arbol = accuracy_score(y_test, y_pred_arbol)\n",
        "\n",
        "# Mostrar el reporte de clasificación del modelo de árbol de decisión optimizado\n",
        "reporte_arbol = classification_report(y_test, y_pred_arbol)\n",
        "\n",
        "# Calcular y mostrar la matriz de confusión del modelo de árbol de decisión optimizado\n",
        "matriz_confusion_arbol = confusion_matrix(y_test, y_pred_arbol)\n",
        "\n",
        "# Comparar los valores de las métricas entre los dos modelos\n",
        "print(\"Comparación de métricas entre KNN y Árbol de Decisión:\")\n",
        "print(\"\\nExactitud:\")\n",
        "print(\"KNN:\", exactitud_knn)\n",
        "print(\"Árbol de Decisión:\", exactitud_arbol)\n",
        "\n",
        "print(\"\\nReporte de Clasificación (KNN):\\n\", reporte_knn)\n",
        "print(\"\\nReporte de Clasificación (Árbol de Decisión):\\n\", reporte_arbol)\n",
        "\n",
        "print(\"\\nMatriz de Confusión (KNN):\\n\", matriz_confusion_knn)\n",
        "print(\"\\nMatriz de Confusión (Árbol de Decisión):\\n\", matriz_confusion_arbol)\n"
      ]
    },
    {
      "cell_type": "code",
      "execution_count": null,
      "metadata": {},
      "outputs": [],
      "source": [
        "\"\"\" Se relacionan las siguientes observaciones:\n",
        "\n",
        "Exactitud:\n",
        "\n",
        "KNN: 0.965\n",
        "Árbol de Decisión: 1.0\n",
        "La exactitud mide la proporción de predicciones correctas del modelo. El modelo de árbol de decisión tiene una exactitud perfecta (1.0), lo que significa que \n",
        "clasifica correctamente todos los casos en el conjunto de datos de prueba. Por otro lado, el modelo KNN tiene una exactitud ligeramente menor, pero sigue siendo \n",
        "alta (0.965), lo que indica que también tiene un buen rendimiento en la clasificación.\n",
        "\n",
        "Reporte de Clasificación:\n",
        "\n",
        "Ambos modelos tienen un alto valor de precisión, recall y puntuación F1 para ambas clases (0 y 1). Esto indica que ambos modelos son capaces de clasificar correctamente\n",
        "la mayoría de las instancias de ambas clases. Sin embargo, el modelo de árbol de decisión tiene un rendimiento perfecto en todas las métricas, mientras que el modelo \n",
        "KNN tiene valores ligeramente más bajos, especialmente para la clase 1. Esto sugiere que el modelo de árbol de decisión puede ser más robusto y generalizable en este \n",
        "conjunto de datos específico.\n",
        "\n",
        "Matriz de Confusión:\n",
        "\n",
        "La matriz de confusión del modelo de árbol de decisión muestra que clasifica correctamente todas las instancias de ambas clases (137 verdaderos positivos y 5 \n",
        "verdaderos negativos). Esto confirma la exactitud perfecta del modelo.\n",
        "\n",
        "La matriz de confusión del modelo KNN muestra algunos falsos negativos para la clase 1, lo que indica que el modelo KNN tiende a subestimar la predicción de esta clase.\n",
        "\n",
        "En conclusión el modelo de árbol de decisión parece tener un rendimiento superior al modelo KNN en este conjunto de datos específico, especialmente en términos de \n",
        "exactitud y capacidad para clasificar correctamente las instancias de ambas clases \"\"\""
      ]
    },
    {
      "cell_type": "markdown",
      "metadata": {
        "id": "JeGx2V0lTF9i"
      },
      "source": [
        "De acuerdo con lo aprendido en el módulo, ¿Cómo cree que se puede mejorar el performance de este modelo? "
      ]
    },
    {
      "cell_type": "markdown",
      "metadata": {
        "id": "lPfoiS6ZTN-4"
      },
      "source": [
        "R/ \n",
        "Usar técnicas de ensamblaje como bagging, boosting o ensamblaje de modelos para combinar múltiples modelos base y mejorar la generalización y la robustez del modelo final.\n",
        "\n",
        "Utilizar técnicas de validación cruzada para evaluar el rendimiento del modelo de manera más robusta y evitar el sobreajuste. Esto puede ayudar a seleccionar el mejor modelo y evitar la filtración de datos."
      ]
    }
  ],
  "metadata": {
    "colab": {
      "provenance": []
    },
    "kernelspec": {
      "display_name": "Python 3",
      "language": "python",
      "name": "python3"
    },
    "language_info": {
      "codemirror_mode": {
        "name": "ipython",
        "version": 3
      },
      "file_extension": ".py",
      "mimetype": "text/x-python",
      "name": "python",
      "nbconvert_exporter": "python",
      "pygments_lexer": "ipython3",
      "version": "3.12.3"
    },
    "orig_nbformat": 4,
    "vscode": {
      "interpreter": {
        "hash": "ae0e7af47f894f9476ada5eb18ddb08363018cc3b7dc70bce08ae16d38df8604"
      }
    }
  },
  "nbformat": 4,
  "nbformat_minor": 0
}
